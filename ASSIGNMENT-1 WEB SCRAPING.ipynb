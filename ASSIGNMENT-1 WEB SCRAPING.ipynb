{
 "cells": [
  {
   "cell_type": "markdown",
   "id": "95d25333",
   "metadata": {},
   "source": [
    "# Name-Shubhankar Vishwakarma\n",
    "# Batch-DS2402\n",
    "# Assignment-Web Scraping"
   ]
  },
  {
   "cell_type": "code",
   "execution_count": 16,
   "id": "9f3dd09b",
   "metadata": {},
   "outputs": [],
   "source": [
    "from bs4 import BeautifulSoup\n",
    "import requests"
   ]
  },
  {
   "cell_type": "code",
   "execution_count": 17,
   "id": "d39e69cb",
   "metadata": {},
   "outputs": [],
   "source": [
    "#1) Write a python program to display all the header tags from wikipedia.org and make data frame\n",
    "page=requests.get('https://en.wikipedia.org/wiki/Main_Page')\n",
    "page\n",
    "soup=BeautifulSoup(page.content)"
   ]
  },
  {
   "cell_type": "code",
   "execution_count": 18,
   "id": "e6d1d12a",
   "metadata": {},
   "outputs": [
    {
     "name": "stdout",
     "output_type": "stream",
     "text": [
      "Welcome to Wikipedia\n",
      "From today's featured article\n",
      "Did you know ...\n",
      "In the news\n",
      "On this day\n",
      "Today's featured picture\n",
      "Other areas of Wikipedia\n",
      "Wikipedia's sister projects\n",
      "Wikipedia languages\n"
     ]
    }
   ],
   "source": [
    "for i in soup.find_all('span',class_=\"mw-headline\"):\n",
    "    print(i.text)"
   ]
  },
  {
   "cell_type": "code",
   "execution_count": 19,
   "id": "ed794adc",
   "metadata": {},
   "outputs": [
    {
     "name": "stdout",
     "output_type": "stream",
     "text": [
      "<Response [200]>\n"
     ]
    }
   ],
   "source": [
    "#2) Write s python program to display list of respected former presidents of India(i.e. Name , Term ofoffice)from https://presidentofindia.nic.in/former-presidents.htm and make data frame\n",
    "page=requests.get('https://presidentofindia.nic.in/former-presidents')\n",
    "print(page)\n",
    "soup=BeautifulSoup(page.content)"
   ]
  },
  {
   "cell_type": "code",
   "execution_count": 20,
   "id": "4c656393",
   "metadata": {},
   "outputs": [
    {
     "name": "stdout",
     "output_type": "stream",
     "text": [
      "\n",
      "Shri Ram Nath Kovind\n",
      "14th President of India\n",
      "\n",
      "\n",
      "Shri Pranab Mukherjee\n",
      "13th President of India\n",
      "\n",
      "\n",
      "Smt Pratibha Devisingh Patil\n",
      "12th President of India\n",
      "\n",
      "\n",
      "DR. A.P.J. Abdul Kalam\n",
      "11th President of India\n",
      "\n",
      "\n",
      "Shri K. R. Narayanan\n",
      "10th President of India\n",
      "\n",
      "\n",
      "Dr Shankar Dayal Sharma\n",
      "9th  President of India\n",
      "\n",
      "\n",
      "Shri R Venkataraman\n",
      "8th President of India\n",
      "\n",
      "\n",
      "Giani Zail Singh\n",
      "7th President of India\n",
      "\n",
      "\n",
      "Shri Neelam Sanjiva Reddy\n",
      "6th President of India\n",
      "\n",
      "\n",
      "Dr. Fakhruddin Ali Ahmed\n",
      "5th President of India\n",
      "\n",
      "\n",
      "Shri Varahagiri Venkata Giri\n",
      "4th President of India\n",
      "\n",
      "\n",
      "Dr. Zakir Husain\n",
      "3rd President of India\n",
      "\n",
      "\n",
      "Dr. Sarvepalli Radhakrishnan\n",
      "2nd President of India\n",
      "\n",
      "\n",
      "Dr. Rajendra Prasad\n",
      "1st President of India\n",
      "\n"
     ]
    }
   ],
   "source": [
    "for i in soup.find_all('div',class_=\"desc-sec\"):\n",
    "    print(i.text)"
   ]
  },
  {
   "cell_type": "code",
   "execution_count": 21,
   "id": "a66660f0",
   "metadata": {},
   "outputs": [],
   "source": [
    "#skipped 3 "
   ]
  },
  {
   "cell_type": "code",
   "execution_count": 22,
   "id": "ccd3fb6f",
   "metadata": {},
   "outputs": [],
   "source": [
    "#skipped 3"
   ]
  },
  {
   "cell_type": "code",
   "execution_count": 23,
   "id": "9a73819a",
   "metadata": {},
   "outputs": [],
   "source": [
    "#5) Write a python program to scrape mentioned news details from https://www.cnbc.com/world/?region=world and make data frame\n",
    "page=requests.get('https://www.cnbc.com/world/?region=world')\n",
    "page\n",
    "soup= BeautifulSoup(page.content)"
   ]
  },
  {
   "cell_type": "code",
   "execution_count": 24,
   "id": "6159410a",
   "metadata": {},
   "outputs": [
    {
     "name": "stdout",
     "output_type": "stream",
     "text": [
      "[\"19 Min Ago'Mistake on top of a mistake': China slams U.S. probe into its shipbuilding sector\", '26 Min AgoDon’t worry about having a five-year career plan, LinkedIn expert says', '27 Min AgoHow electric trucks are becoming the norm for moving cargo', \"1 Hour AgoElon Musk says Tesla sent 'incorrectly low' severance to some laid-off employees\", '1 Hour AgoEuropean markets head for mixed open after Wall Street logs another day of declines', '2 Hours AgoGoogle terminates 28 employees after multi-city protests: Read the full memo', \"2 Hours AgoIndia kicks off the world's largest elections. Here’s what you need to know\", '2 Hours AgoMalaysia is unfazed by China, U.S. semiconductor competition, minister says', '4 Hours AgoBaidu releases new AI tools to promote application development', \"4 Hours AgoCramer's Lightning Round: Instead of Marathon Digital, buy Ethereum or Bitcoin\", '5 Hours AgoJim Cramer is generally positive on major banks post-earnings', '6 Hours AgoCramer explains what could cause the market to keep going down', \"6 Hours AgoThe cost to ride on India's luxury trains may surprise you\", '6 Hours AgoAsia markets climb across the board after S&P and Nasdaq fall for fourth straight day', '6 Hours AgoTesla is laying off 285 employees in Buffalo, New York as part of a broad restructuring', '6 Hours AgoLoads of analysts cut their price targets on these 10 stocks ahead of earnings', '6 Hours AgoGoldman Sachs names 4 defense stocks on its watch as geopolitical tensions rise', '8 Hours AgoStock futures are little changed after S&P 500 posts a fourth losing day', \"8 Hours AgoGoogle workers arrested after nine-hour protest in cloud chief's office\", '9 Hours AgoStocks making the biggest moves after hours: CSX, Equifax and more', '9 Hours AgoBiden admin, ports prep for cyberattacks as US infrastructure targeted', \"9 Hours AgoBiden says Trump 'doesn't deserve to be the Commander in Chief for my son'\", '9 Hours AgoAirline executives predict a record summer and even more demand for first class', \"10 Hours AgoPromise of Lilly's obesity drug for sleep apnea adds another reason to own shares\", \"10 Hours AgoInvesting in Trump Media is an 'act of faith,' expert says. Here are risks\", '10 Hours AgoSeries I bonds ‘still a good deal’ despite expected falling rate, experts say ', '11 Hours AgoGoogle restructures finance team as part of AI shift, CFO tells employees in memo', '11 Hours AgoBitcoin miners’ revenue is about to be slashed — what investors need to know', \"11 Hours AgoS&P 500's recent slump feels worse than it is. Here's some market perspective\", '11 Hours AgoAmazon seller who makes $142,000 a mo: Avoid these 3 side hustle mistakes']\n",
      "30\n"
     ]
    }
   ],
   "source": [
    "Headline=[]\n",
    "for i in soup.find_all('div',class_=\"LatestNews-headlineWrapper\"):\n",
    "    Headline.append(i.text)\n",
    "print(Headline)\n",
    "print(len(Headline))"
   ]
  },
  {
   "cell_type": "code",
   "execution_count": 25,
   "id": "3f83e15c",
   "metadata": {},
   "outputs": [
    {
     "name": "stdout",
     "output_type": "stream",
     "text": [
      "['19 Min Ago', '26 Min Ago', '27 Min Ago', '1 Hour Ago', '1 Hour Ago', '2 Hours Ago', '2 Hours Ago', '2 Hours Ago', '4 Hours Ago', '4 Hours Ago', '5 Hours Ago', '6 Hours Ago', '6 Hours Ago', '6 Hours Ago', '6 Hours Ago', '6 Hours Ago', '6 Hours Ago', '8 Hours Ago', '8 Hours Ago', '9 Hours Ago', '9 Hours Ago', '9 Hours Ago', '9 Hours Ago', '10 Hours Ago', '10 Hours Ago', '10 Hours Ago', '11 Hours Ago', '11 Hours Ago', '11 Hours Ago', '11 Hours Ago']\n",
      "30\n"
     ]
    }
   ],
   "source": [
    "Time=[]\n",
    "for i in soup.find_all('span',class_=\"LatestNews-wrapper\"):\n",
    "    Time.append(i.text)\n",
    "print(Time)\n",
    "print(len(Time))"
   ]
  },
  {
   "cell_type": "code",
   "execution_count": 26,
   "id": "4ee1b959",
   "metadata": {},
   "outputs": [
    {
     "name": "stdout",
     "output_type": "stream",
     "text": [
      "['https://www.cnbc.com/2024/04/18/china-slams-us-probe-into-its-shipbuilding-industry-for-unfair-practices.html', 'https://www.cnbc.com/2024/04/18/dont-worry-about-having-a-five-year-career-plan-linkedin-expert-says.html', 'https://www.cnbc.com/2024/04/18/how-electric-trucks-are-becoming-the-norm-for-moving-cargo.html', 'https://www.cnbc.com/2024/04/17/tesla-says-in-email-it-sent-some-incorrectly-low-severance-packages.html', 'https://www.cnbc.com/2024/04/18/european-markets-live-updates-stocks-news-data-and-earnings.html', 'https://www.cnbc.com/2024/04/18/google-terminates-28-employees-after-series-of-protests-read-the-memo.html', 'https://www.cnbc.com/2024/04/18/india-elections-lok-sabha-polls-start-april-19-what-you-need-to-know.html', 'https://www.cnbc.com/2024/04/18/malaysia-is-unfazed-by-china-us-chip-competition-minister-says.html', 'https://www.cnbc.com/2024/04/18/baidu-releases-new-ai-tools-to-promote-application-development.html', 'https://www.cnbc.com/2024/04/17/cramers-lightning-round-ethereum-or-bitcoin-instead-of-marathon-digital.html', 'https://www.cnbc.com/2024/04/17/jim-cramer-is-generally-positive-on-major-banks-post-earnings.html', 'https://www.cnbc.com/2024/04/17/cramer-explains-what-could-cause-the-market-to-keep-going-down.html', 'https://www.cnbc.com/2024/04/18/luxury-trains-in-india-maharajas-express-to-palace-on-wheels-.html', 'https://www.cnbc.com/2024/04/18/asia-markets-live-updates-tech-losses-australia-unemployment.html', 'https://www.cnbc.com/2024/04/17/tesla-is-laying-off-285-employees-in-buffalo-new-york-as-part-of-a-broad-restructuring.html', '/pro/', '/pro/', 'https://www.cnbc.com/2024/04/17/stock-market-today-live-updates.html', 'https://www.cnbc.com/2024/04/17/google-workers-arrested-after-nine-hour-protest-in-google-cloud-ceos-office.html', 'https://www.cnbc.com/2024/04/17/stocks-making-the-biggest-moves-after-hours-csx-lvs-efx-aa.html', 'https://www.cnbc.com/2024/04/17/biden-admin-ports-prep-for-cyberattacks-as-us-infrastructure-targeted.html', 'https://www.cnbc.com/2024/04/17/biden-says-trump-shouldnt-be-commander-in-chief-for-my-son.html', 'https://www.cnbc.com/2024/04/17/airline-execs-predict-record-summer-even-more-demand-for-first-class.html', '/investingclub/', 'https://www.cnbc.com/2024/04/17/investing-in-trump-media-is-an-act-of-faith-expert-says-here-are-risks.html', 'https://www.cnbc.com/2024/04/17/series-i-bonds-still-a-good-deal-despite-falling-rate-experts-say-.html', 'https://www.cnbc.com/2024/04/17/google-restructures-finance-team-as-a-part-of-ai-shift-cfo-tells-employees-in-memo.html', '/pro/', '/investingclub/', 'https://www.cnbc.com/2024/04/17/amazon-seller-who-makes-142k-a-month-avoid-these-mistakes.html']\n",
      "30\n"
     ]
    }
   ],
   "source": [
    "link=[]\n",
    "for i in soup.find_all('div',class_=\"LatestNews-headlineWrapper\"):\n",
    "    link.append(i.find('a').get('href'))\n",
    "print(link)\n",
    "print(len(link))"
   ]
  },
  {
   "cell_type": "code",
   "execution_count": 27,
   "id": "81daac8f",
   "metadata": {},
   "outputs": [
    {
     "name": "stdout",
     "output_type": "stream",
     "text": [
      "                                             Headline          Time  \\\n",
      "0   19 Min Ago'Mistake on top of a mistake': China...    19 Min Ago   \n",
      "1   26 Min AgoDon’t worry about having a five-year...    26 Min Ago   \n",
      "2   27 Min AgoHow electric trucks are becoming the...    27 Min Ago   \n",
      "3   1 Hour AgoElon Musk says Tesla sent 'incorrect...    1 Hour Ago   \n",
      "4   1 Hour AgoEuropean markets head for mixed open...    1 Hour Ago   \n",
      "5   2 Hours AgoGoogle terminates 28 employees afte...   2 Hours Ago   \n",
      "6   2 Hours AgoIndia kicks off the world's largest...   2 Hours Ago   \n",
      "7   2 Hours AgoMalaysia is unfazed by China, U.S. ...   2 Hours Ago   \n",
      "8   4 Hours AgoBaidu releases new AI tools to prom...   4 Hours Ago   \n",
      "9   4 Hours AgoCramer's Lightning Round: Instead o...   4 Hours Ago   \n",
      "10  5 Hours AgoJim Cramer is generally positive on...   5 Hours Ago   \n",
      "11  6 Hours AgoCramer explains what could cause th...   6 Hours Ago   \n",
      "12  6 Hours AgoThe cost to ride on India's luxury ...   6 Hours Ago   \n",
      "13  6 Hours AgoAsia markets climb across the board...   6 Hours Ago   \n",
      "14  6 Hours AgoTesla is laying off 285 employees i...   6 Hours Ago   \n",
      "15  6 Hours AgoLoads of analysts cut their price t...   6 Hours Ago   \n",
      "16  6 Hours AgoGoldman Sachs names 4 defense stock...   6 Hours Ago   \n",
      "17  8 Hours AgoStock futures are little changed af...   8 Hours Ago   \n",
      "18  8 Hours AgoGoogle workers arrested after nine-...   8 Hours Ago   \n",
      "19  9 Hours AgoStocks making the biggest moves aft...   9 Hours Ago   \n",
      "20  9 Hours AgoBiden admin, ports prep for cyberat...   9 Hours Ago   \n",
      "21  9 Hours AgoBiden says Trump 'doesn't deserve t...   9 Hours Ago   \n",
      "22  9 Hours AgoAirline executives predict a record...   9 Hours Ago   \n",
      "23  10 Hours AgoPromise of Lilly's obesity drug fo...  10 Hours Ago   \n",
      "24  10 Hours AgoInvesting in Trump Media is an 'ac...  10 Hours Ago   \n",
      "25  10 Hours AgoSeries I bonds ‘still a good deal’...  10 Hours Ago   \n",
      "26  11 Hours AgoGoogle restructures finance team a...  11 Hours Ago   \n",
      "27  11 Hours AgoBitcoin miners’ revenue is about t...  11 Hours Ago   \n",
      "28  11 Hours AgoS&P 500's recent slump feels worse...  11 Hours Ago   \n",
      "29  11 Hours AgoAmazon seller who makes $142,000 a...  11 Hours Ago   \n",
      "\n",
      "                                                 link  \n",
      "0   https://www.cnbc.com/2024/04/18/china-slams-us...  \n",
      "1   https://www.cnbc.com/2024/04/18/dont-worry-abo...  \n",
      "2   https://www.cnbc.com/2024/04/18/how-electric-t...  \n",
      "3   https://www.cnbc.com/2024/04/17/tesla-says-in-...  \n",
      "4   https://www.cnbc.com/2024/04/18/european-marke...  \n",
      "5   https://www.cnbc.com/2024/04/18/google-termina...  \n",
      "6   https://www.cnbc.com/2024/04/18/india-election...  \n",
      "7   https://www.cnbc.com/2024/04/18/malaysia-is-un...  \n",
      "8   https://www.cnbc.com/2024/04/18/baidu-releases...  \n",
      "9   https://www.cnbc.com/2024/04/17/cramers-lightn...  \n",
      "10  https://www.cnbc.com/2024/04/17/jim-cramer-is-...  \n",
      "11  https://www.cnbc.com/2024/04/17/cramer-explain...  \n",
      "12  https://www.cnbc.com/2024/04/18/luxury-trains-...  \n",
      "13  https://www.cnbc.com/2024/04/18/asia-markets-l...  \n",
      "14  https://www.cnbc.com/2024/04/17/tesla-is-layin...  \n",
      "15                                              /pro/  \n",
      "16                                              /pro/  \n",
      "17  https://www.cnbc.com/2024/04/17/stock-market-t...  \n",
      "18  https://www.cnbc.com/2024/04/17/google-workers...  \n",
      "19  https://www.cnbc.com/2024/04/17/stocks-making-...  \n",
      "20  https://www.cnbc.com/2024/04/17/biden-admin-po...  \n",
      "21  https://www.cnbc.com/2024/04/17/biden-says-tru...  \n",
      "22  https://www.cnbc.com/2024/04/17/airline-execs-...  \n",
      "23                                    /investingclub/  \n",
      "24  https://www.cnbc.com/2024/04/17/investing-in-t...  \n",
      "25  https://www.cnbc.com/2024/04/17/series-i-bonds...  \n",
      "26  https://www.cnbc.com/2024/04/17/google-restruc...  \n",
      "27                                              /pro/  \n",
      "28                                    /investingclub/  \n",
      "29  https://www.cnbc.com/2024/04/17/amazon-seller-...  \n"
     ]
    }
   ],
   "source": [
    "CNBC= pd.DataFrame({'Headline':Headline,'Time':Time,'link':link})\n",
    "print(CNBC)"
   ]
  },
  {
   "cell_type": "code",
   "execution_count": 28,
   "id": "378d1ede",
   "metadata": {},
   "outputs": [
    {
     "data": {
      "text/plain": [
       "<Response [403]>"
      ]
     },
     "execution_count": 28,
     "metadata": {},
     "output_type": "execute_result"
    }
   ],
   "source": [
    "#6) Write a python program to scrape the details of most downloaded articles from AI in last 90\n",
    "page=requests.get('https://www.journals.elsevier.com/artificial-intelligence/most-downloaded-articles')\n",
    "page"
   ]
  },
  {
   "cell_type": "code",
   "execution_count": 29,
   "id": "cbae1e0d",
   "metadata": {},
   "outputs": [],
   "source": [
    "soup=BeautifulSoup(page.content)"
   ]
  },
  {
   "cell_type": "code",
   "execution_count": 30,
   "id": "cfc10829",
   "metadata": {},
   "outputs": [
    {
     "name": "stdout",
     "output_type": "stream",
     "text": [
      "[]\n",
      "0\n"
     ]
    }
   ],
   "source": [
    "Title=[]\n",
    "for i in soup.find_all('li',class_=\"sc-9zxyh7-1 sc-9zxyh7-2 kOEIEO hvoVxs\"):\n",
    "    Title.append(i.find('h2').text)\n",
    "print(Title)\n",
    "print(len(Title))"
   ]
  },
  {
   "cell_type": "code",
   "execution_count": 31,
   "id": "47717078",
   "metadata": {},
   "outputs": [
    {
     "name": "stdout",
     "output_type": "stream",
     "text": [
      "[]\n",
      "0\n"
     ]
    }
   ],
   "source": [
    "Authors=[]\n",
    "for i in soup.find_all('li',class_=\"sc-9zxyh7-1 sc-9zxyh7-2 kOEIEO hvoVxs\"):\n",
    "    Authors.append(i.find('span').text)\n",
    "print(Authors)\n",
    "print(len(Authors))"
   ]
  },
  {
   "cell_type": "code",
   "execution_count": 32,
   "id": "716d27b2",
   "metadata": {},
   "outputs": [
    {
     "name": "stdout",
     "output_type": "stream",
     "text": [
      "[]\n",
      "0\n"
     ]
    }
   ],
   "source": [
    "Date=[]\n",
    "for i in soup.find_all('li',class_=\"sc-9zxyh7-1 sc-9zxyh7-2 kOEIEO hvoVxs\"):\n",
    "    Date.append(i.find('span',class_=\"sc-1thf9ly-2 dvggWt\").text)\n",
    "print(Date)\n",
    "print(len(Date))"
   ]
  },
  {
   "cell_type": "code",
   "execution_count": 33,
   "id": "d7eedf02",
   "metadata": {},
   "outputs": [
    {
     "name": "stdout",
     "output_type": "stream",
     "text": [
      "[]\n",
      "0\n"
     ]
    }
   ],
   "source": [
    "link=[]\n",
    "for i in soup.find_all('li',class_=\"sc-9zxyh7-1 sc-9zxyh7-2 kOEIEO hvoVxs\"):\n",
    "    link.append(i.find('a').get('href'))\n",
    "print(link)\n",
    "print(len(link))"
   ]
  },
  {
   "cell_type": "code",
   "execution_count": 34,
   "id": "36f6b964",
   "metadata": {},
   "outputs": [
    {
     "name": "stdout",
     "output_type": "stream",
     "text": [
      "Empty DataFrame\n",
      "Columns: [paper_title, Author, Published_date, link]\n",
      "Index: []\n"
     ]
    }
   ],
   "source": [
    "Books= pd.DataFrame({'paper_title':Title,'Author':Authors,'Published_date':Date,'link':link})\n",
    "print(Books)"
   ]
  },
  {
   "cell_type": "code",
   "execution_count": 35,
   "id": "4a7cfc77",
   "metadata": {},
   "outputs": [],
   "source": [
    "#Write a python program to scrape mentioned details from dineout.co.inand make data frame\u0002"
   ]
  },
  {
   "cell_type": "code",
   "execution_count": 36,
   "id": "a44a3cda",
   "metadata": {},
   "outputs": [
    {
     "data": {
      "text/plain": [
       "<Response [200]>"
      ]
     },
     "execution_count": 36,
     "metadata": {},
     "output_type": "execute_result"
    }
   ],
   "source": [
    "page= requests.get('https://www.dineout.co.in/delhi-restaurants/welcome-back')\n",
    "page"
   ]
  },
  {
   "cell_type": "code",
   "execution_count": 37,
   "id": "f8fc4d8c",
   "metadata": {},
   "outputs": [],
   "source": [
    "soup=BeautifulSoup(page.content)"
   ]
  },
  {
   "cell_type": "code",
   "execution_count": 38,
   "id": "e87e71b6",
   "metadata": {},
   "outputs": [
    {
     "name": "stdout",
     "output_type": "stream",
     "text": [
      "[\"Berco's\", 'My Bar Headquarters', 'The G.T. Road', 'Punjab Grill', 'Unplugged Courtyard', 'Subway', 'Sandoz', 'Local', 'Kill The Bill', 'The Embassy', 'Gin & Juliet', 'Desi Villagio - Village Theme Restro Bar', 'Barbeque Nation', 'Mughal-E-Hazam', 'The Host', 'Ardor 2.1 Restaurant and Lounge', 'United Coffee House', 'The Junkyard Cafe', 'Taco Bell', 'Biryani Blues', 'Excuse Me Boss']\n",
      "21\n"
     ]
    }
   ],
   "source": [
    "restaurant=[]\n",
    "for i in soup.find_all('div',class_=\"restnt-info cursor\"):\n",
    "    restaurant.append(i.find('a',class_=\"restnt-name ellipsis\").text)\n",
    "print(restaurant)\n",
    "print(len(restaurant))"
   ]
  },
  {
   "cell_type": "code",
   "execution_count": 39,
   "id": "c4d4cfc3",
   "metadata": {},
   "outputs": [
    {
     "name": "stdout",
     "output_type": "stream",
     "text": [
      "[' Chinese, Thai', ' North Indian, Chinese', ' North Indian', ' North Indian, Mughlai', ' North Indian, Italian, Chinese, Turkish, Continental', ' Fast Food', ' North Indian, Continental', ' North Indian, Asian, Continental', ' Fast Food, North Indian, Seafood, Chinese, Continental', ' North Indian, European, Fast Food, Italian, Continental', ' Italian, Chinese, North Indian, Fast Food', ' North Indian', ' North Indian, Chinese, Beverages', ' North Indian, Mughlai', ' North Indian, Chinese', ' North Indian, Chinese, Italian, Continental', ' European, Mediterranean, North Indian', ' North Indian, Continental, Chinese, Fast Food', ' Tex Mex, Mexican', ' Biryani', ' North Indian, Chinese, Italian, Continental, Beverages']\n",
      "21\n"
     ]
    }
   ],
   "source": [
    "cuisine=[]\n",
    "for i in soup.find_all('span',class_=\"double-line-ellipsis\"):\n",
    "    cuisine.append(i.text.split('|')[1])\n",
    "print(cuisine)\n",
    "print(len(cuisine))"
   ]
  },
  {
   "cell_type": "code",
   "execution_count": 40,
   "id": "aa62786e",
   "metadata": {},
   "outputs": [
    {
     "name": "stdout",
     "output_type": "stream",
     "text": [
      "['Connaught Place, Central Delhi', 'Connaught Place, Central Delhi', 'M-Block,Connaught Place, Central Delhi', 'Janpath, Central Delhi', 'Connaught Place, Central Delhi', 'Connaught Place, Central Delhi', 'Connaught Place, Central Delhi', 'Scindia House,Connaught Place, Central Delhi', 'Connaught Place, Central Delhi', 'Connaught Place, Central Delhi', 'F-Block,Connaught Place, Central Delhi', 'Connaught Place, Central Delhi', 'Connaught Place, Central Delhi', 'Connaught Place, Central Delhi', 'F-Block,Connaught Place, Central Delhi', 'Connaught Place, Central Delhi', 'Connaught Place, Central Delhi', 'Connaught Place, Central Delhi', 'Connaught Place, Central Delhi', 'Scindia House,Connaught Place, Central Delhi', 'F-Block,Connaught Place, Central Delhi']\n",
      "21\n"
     ]
    }
   ],
   "source": [
    "location=[]\n",
    "for i in soup.find_all('div',class_=\"restnt-loc ellipsis\"):\n",
    "    location.append(i.text)\n",
    "print(location)\n",
    "print(len(location))"
   ]
  },
  {
   "cell_type": "code",
   "execution_count": 41,
   "id": "7955409c",
   "metadata": {},
   "outputs": [
    {
     "name": "stdout",
     "output_type": "stream",
     "text": [
      "['4.3', '4', '4.3', '3.7', '4', '4', '4', '4.3', '4.1', '4', '4.1', '4.3', '4.2', '4.1', '4.4', '4.1', '4.1', '4.2', '4']\n",
      "19\n"
     ]
    }
   ],
   "source": [
    "Ratings=[]\n",
    "for i in soup.find_all('div',class_=\"restnt-rating rating-4\"):\n",
    "    Ratings.append(i.text)\n",
    "print(Ratings)\n",
    "print(len(Ratings))"
   ]
  },
  {
   "cell_type": "code",
   "execution_count": 42,
   "id": "b50d7148",
   "metadata": {},
   "outputs": [
    {
     "name": "stdout",
     "output_type": "stream",
     "text": [
      "['https://im1.dineout.co.in/images/uploads/restaurant/sharpen/2/t/u/p237-16468990666229af7a72b08.jpg?tr=tr:n-medium', 'https://im1.dineout.co.in/images/uploads/restaurant/sharpen/1/d/f/p19636-16463919576221f295ae1f1.jpg?tr=tr:n-medium', 'https://im1.dineout.co.in/images/uploads/restaurant/sharpen/3/l/l/p31393-171083403865f94176e32c0.jpg?tr=tr:n-medium', 'https://im1.dineout.co.in/images/uploads/restaurant/sharpen/5/j/a/p54792-1630486205612f3ebd9d20b.jpg?tr=tr:n-medium', 'https://im1.dineout.co.in/images/uploads/restaurant/sharpen/2/e/y/p20941-168915645564ae7b673b872.jpg?tr=tr:n-medium', 'https://im1.dineout.co.in/images/uploads/restaurant/sharpen/1/t/h/p16-16457922496218cbf9e6961.jpg?tr=tr:n-medium', 'https://im1.dineout.co.in/images/uploads/restaurant/sharpen/8/e/u/p80493-16064603115fc0a397716de.jpg?tr=tr:n-medium', 'https://im1.dineout.co.in/images/uploads/restaurant/sharpen/2/b/t/p27452-15020105505986dcb6d147f.jpg?tr=tr:n-medium', 'https://im1.dineout.co.in/images/uploads/restaurant/sharpen/2/l/x/p29876-1618634149607a65a541b42.JPG?tr=tr:n-medium', 'https://im1.dineout.co.in/images/uploads/restaurant/sharpen/4/e/u/p456-14473237645644687422a28.jpg?tr=tr:n-medium', 'https://im1.dineout.co.in/images/uploads/restaurant/sharpen/9/l/q/p971-16946056676501a163bf712.jpg?tr=tr:n-medium', 'https://im1.dineout.co.in/images/uploads/restaurant/sharpen/1/z/c/p19259-1686039280647eeaf0c8440.jpg?tr=tr:n-medium', 'https://im1.dineout.co.in/images/uploads/restaurant/sharpen/5/l/m/p532-168239919964475fdfdb926.jpg?tr=tr:n-medium', 'https://im1.dineout.co.in/images/uploads/restaurant/sharpen/8/b/w/p85710-16032607965f8fd17c1e00f.jpg?tr=tr:n-medium', 'https://im1.dineout.co.in/images/uploads/restaurant/sharpen/2/d/v/p2775-144956603856669f566cf90.jpg?tr=tr:n-medium', 'https://im1.dineout.co.in/images/uploads/restaurant/sharpen/2/y/m/p221-16455303976214cd1d7a086.jpg?tr=tr:n-medium', 'https://im1.dineout.co.in/images/uploads/restaurant/sharpen/4/o/r/p4454-15311252655b431e117402b.jpg?tr=tr:n-medium', 'https://im1.dineout.co.in/images/uploads/restaurant/sharpen/2/s/y/p20298-1664186585633178d99f1db.jpg?tr=tr:n-medium', 'https://im1.dineout.co.in/images/uploads/restaurant/sharpen/3/p/z/p3725-16058675355fb7980f645a2.jpg?tr=tr:n-medium', 'https://im1.dineout.co.in/images/uploads/restaurant/sharpen/1/w/q/p1126-149121190358e2167fb3d08.jpg?tr=tr:n-medium', 'https://im1.dineout.co.in/images/uploads/restaurant/sharpen/1/s/o/p15035-14429227625601410a815e9.jpg?tr=tr:n-medium']\n",
      "21\n"
     ]
    }
   ],
   "source": [
    "image_url=[]\n",
    "for i in soup.find_all('img',class_=\"no-img\"):\n",
    "    image_url.append(i['data-src'])\n",
    "print(image_url)\n",
    "print(len(image_url))"
   ]
  },
  {
   "cell_type": "code",
   "execution_count": 46,
   "id": "23bd507c",
   "metadata": {},
   "outputs": [],
   "source": [
    "import pandas as pd"
   ]
  },
  {
   "cell_type": "code",
   "execution_count": 47,
   "id": "079074bf",
   "metadata": {},
   "outputs": [],
   "source": [
    "a={'Restaurant_name':restaurant,'cuisine':cuisine,'location':location,'Ratings':Ratings,'Image_url':image_url}"
   ]
  },
  {
   "cell_type": "code",
   "execution_count": 48,
   "id": "16c9d560",
   "metadata": {},
   "outputs": [
    {
     "ename": "ValueError",
     "evalue": "All arrays must be of the same length",
     "output_type": "error",
     "traceback": [
      "\u001b[1;31m---------------------------------------------------------------------------\u001b[0m",
      "\u001b[1;31mValueError\u001b[0m                                Traceback (most recent call last)",
      "Cell \u001b[1;32mIn[48], line 1\u001b[0m\n\u001b[1;32m----> 1\u001b[0m df\u001b[38;5;241m=\u001b[39m\u001b[43mpd\u001b[49m\u001b[38;5;241;43m.\u001b[39;49m\u001b[43mDataFrame\u001b[49m\u001b[43m(\u001b[49m\u001b[43ma\u001b[49m\u001b[43m)\u001b[49m\n\u001b[0;32m      2\u001b[0m \u001b[38;5;28mprint\u001b[39m(df)\n",
      "File \u001b[1;32mC:\\python37\\Lib\\site-packages\\pandas\\core\\frame.py:736\u001b[0m, in \u001b[0;36mDataFrame.__init__\u001b[1;34m(self, data, index, columns, dtype, copy)\u001b[0m\n\u001b[0;32m    730\u001b[0m     mgr \u001b[38;5;241m=\u001b[39m \u001b[38;5;28mself\u001b[39m\u001b[38;5;241m.\u001b[39m_init_mgr(\n\u001b[0;32m    731\u001b[0m         data, axes\u001b[38;5;241m=\u001b[39m{\u001b[38;5;124m\"\u001b[39m\u001b[38;5;124mindex\u001b[39m\u001b[38;5;124m\"\u001b[39m: index, \u001b[38;5;124m\"\u001b[39m\u001b[38;5;124mcolumns\u001b[39m\u001b[38;5;124m\"\u001b[39m: columns}, dtype\u001b[38;5;241m=\u001b[39mdtype, copy\u001b[38;5;241m=\u001b[39mcopy\n\u001b[0;32m    732\u001b[0m     )\n\u001b[0;32m    734\u001b[0m \u001b[38;5;28;01melif\u001b[39;00m \u001b[38;5;28misinstance\u001b[39m(data, \u001b[38;5;28mdict\u001b[39m):\n\u001b[0;32m    735\u001b[0m     \u001b[38;5;66;03m# GH#38939 de facto copy defaults to False only in non-dict cases\u001b[39;00m\n\u001b[1;32m--> 736\u001b[0m     mgr \u001b[38;5;241m=\u001b[39m \u001b[43mdict_to_mgr\u001b[49m\u001b[43m(\u001b[49m\u001b[43mdata\u001b[49m\u001b[43m,\u001b[49m\u001b[43m \u001b[49m\u001b[43mindex\u001b[49m\u001b[43m,\u001b[49m\u001b[43m \u001b[49m\u001b[43mcolumns\u001b[49m\u001b[43m,\u001b[49m\u001b[43m \u001b[49m\u001b[43mdtype\u001b[49m\u001b[38;5;241;43m=\u001b[39;49m\u001b[43mdtype\u001b[49m\u001b[43m,\u001b[49m\u001b[43m \u001b[49m\u001b[43mcopy\u001b[49m\u001b[38;5;241;43m=\u001b[39;49m\u001b[43mcopy\u001b[49m\u001b[43m,\u001b[49m\u001b[43m \u001b[49m\u001b[43mtyp\u001b[49m\u001b[38;5;241;43m=\u001b[39;49m\u001b[43mmanager\u001b[49m\u001b[43m)\u001b[49m\n\u001b[0;32m    737\u001b[0m \u001b[38;5;28;01melif\u001b[39;00m \u001b[38;5;28misinstance\u001b[39m(data, ma\u001b[38;5;241m.\u001b[39mMaskedArray):\n\u001b[0;32m    738\u001b[0m     \u001b[38;5;28;01mfrom\u001b[39;00m \u001b[38;5;21;01mnumpy\u001b[39;00m\u001b[38;5;21;01m.\u001b[39;00m\u001b[38;5;21;01mma\u001b[39;00m \u001b[38;5;28;01mimport\u001b[39;00m mrecords\n",
      "File \u001b[1;32mC:\\python37\\Lib\\site-packages\\pandas\\core\\internals\\construction.py:503\u001b[0m, in \u001b[0;36mdict_to_mgr\u001b[1;34m(data, index, columns, dtype, typ, copy)\u001b[0m\n\u001b[0;32m    499\u001b[0m     \u001b[38;5;28;01melse\u001b[39;00m:\n\u001b[0;32m    500\u001b[0m         \u001b[38;5;66;03m# dtype check to exclude e.g. range objects, scalars\u001b[39;00m\n\u001b[0;32m    501\u001b[0m         arrays \u001b[38;5;241m=\u001b[39m [x\u001b[38;5;241m.\u001b[39mcopy() \u001b[38;5;28;01mif\u001b[39;00m \u001b[38;5;28mhasattr\u001b[39m(x, \u001b[38;5;124m\"\u001b[39m\u001b[38;5;124mdtype\u001b[39m\u001b[38;5;124m\"\u001b[39m) \u001b[38;5;28;01melse\u001b[39;00m x \u001b[38;5;28;01mfor\u001b[39;00m x \u001b[38;5;129;01min\u001b[39;00m arrays]\n\u001b[1;32m--> 503\u001b[0m \u001b[38;5;28;01mreturn\u001b[39;00m \u001b[43marrays_to_mgr\u001b[49m\u001b[43m(\u001b[49m\u001b[43marrays\u001b[49m\u001b[43m,\u001b[49m\u001b[43m \u001b[49m\u001b[43mcolumns\u001b[49m\u001b[43m,\u001b[49m\u001b[43m \u001b[49m\u001b[43mindex\u001b[49m\u001b[43m,\u001b[49m\u001b[43m \u001b[49m\u001b[43mdtype\u001b[49m\u001b[38;5;241;43m=\u001b[39;49m\u001b[43mdtype\u001b[49m\u001b[43m,\u001b[49m\u001b[43m \u001b[49m\u001b[43mtyp\u001b[49m\u001b[38;5;241;43m=\u001b[39;49m\u001b[43mtyp\u001b[49m\u001b[43m,\u001b[49m\u001b[43m \u001b[49m\u001b[43mconsolidate\u001b[49m\u001b[38;5;241;43m=\u001b[39;49m\u001b[43mcopy\u001b[49m\u001b[43m)\u001b[49m\n",
      "File \u001b[1;32mC:\\python37\\Lib\\site-packages\\pandas\\core\\internals\\construction.py:114\u001b[0m, in \u001b[0;36marrays_to_mgr\u001b[1;34m(arrays, columns, index, dtype, verify_integrity, typ, consolidate)\u001b[0m\n\u001b[0;32m    111\u001b[0m \u001b[38;5;28;01mif\u001b[39;00m verify_integrity:\n\u001b[0;32m    112\u001b[0m     \u001b[38;5;66;03m# figure out the index, if necessary\u001b[39;00m\n\u001b[0;32m    113\u001b[0m     \u001b[38;5;28;01mif\u001b[39;00m index \u001b[38;5;129;01mis\u001b[39;00m \u001b[38;5;28;01mNone\u001b[39;00m:\n\u001b[1;32m--> 114\u001b[0m         index \u001b[38;5;241m=\u001b[39m \u001b[43m_extract_index\u001b[49m\u001b[43m(\u001b[49m\u001b[43marrays\u001b[49m\u001b[43m)\u001b[49m\n\u001b[0;32m    115\u001b[0m     \u001b[38;5;28;01melse\u001b[39;00m:\n\u001b[0;32m    116\u001b[0m         index \u001b[38;5;241m=\u001b[39m ensure_index(index)\n",
      "File \u001b[1;32mC:\\python37\\Lib\\site-packages\\pandas\\core\\internals\\construction.py:677\u001b[0m, in \u001b[0;36m_extract_index\u001b[1;34m(data)\u001b[0m\n\u001b[0;32m    675\u001b[0m lengths \u001b[38;5;241m=\u001b[39m \u001b[38;5;28mlist\u001b[39m(\u001b[38;5;28mset\u001b[39m(raw_lengths))\n\u001b[0;32m    676\u001b[0m \u001b[38;5;28;01mif\u001b[39;00m \u001b[38;5;28mlen\u001b[39m(lengths) \u001b[38;5;241m>\u001b[39m \u001b[38;5;241m1\u001b[39m:\n\u001b[1;32m--> 677\u001b[0m     \u001b[38;5;28;01mraise\u001b[39;00m \u001b[38;5;167;01mValueError\u001b[39;00m(\u001b[38;5;124m\"\u001b[39m\u001b[38;5;124mAll arrays must be of the same length\u001b[39m\u001b[38;5;124m\"\u001b[39m)\n\u001b[0;32m    679\u001b[0m \u001b[38;5;28;01mif\u001b[39;00m have_dicts:\n\u001b[0;32m    680\u001b[0m     \u001b[38;5;28;01mraise\u001b[39;00m \u001b[38;5;167;01mValueError\u001b[39;00m(\n\u001b[0;32m    681\u001b[0m         \u001b[38;5;124m\"\u001b[39m\u001b[38;5;124mMixing dicts with non-Series may lead to ambiguous ordering.\u001b[39m\u001b[38;5;124m\"\u001b[39m\n\u001b[0;32m    682\u001b[0m     )\n",
      "\u001b[1;31mValueError\u001b[0m: All arrays must be of the same length"
     ]
    }
   ],
   "source": [
    "df=pd.DataFrame(a)\n",
    "print(df)"
   ]
  },
  {
   "cell_type": "code",
   "execution_count": null,
   "id": "b0210efb",
   "metadata": {},
   "outputs": [],
   "source": []
  },
  {
   "cell_type": "code",
   "execution_count": null,
   "id": "2f4f7fce-dcab-405f-a30b-b79d9ad19cef",
   "metadata": {},
   "outputs": [],
   "source": []
  },
  {
   "cell_type": "code",
   "execution_count": null,
   "id": "2c468d17-b182-4b4e-9a46-3c9b94fc58b8",
   "metadata": {},
   "outputs": [],
   "source": []
  }
 ],
 "metadata": {
  "kernelspec": {
   "display_name": "Python 3 (ipykernel)",
   "language": "python",
   "name": "python3"
  },
  "language_info": {
   "codemirror_mode": {
    "name": "ipython",
    "version": 3
   },
   "file_extension": ".py",
   "mimetype": "text/x-python",
   "name": "python",
   "nbconvert_exporter": "python",
   "pygments_lexer": "ipython3",
   "version": "3.11.5"
  }
 },
 "nbformat": 4,
 "nbformat_minor": 5
}
